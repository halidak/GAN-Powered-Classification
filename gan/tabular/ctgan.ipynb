{
 "cells": [
  {
   "cell_type": "code",
   "execution_count": 2,
   "metadata": {},
   "outputs": [
    {
     "name": "stderr",
     "output_type": "stream",
     "text": [
      "c:\\Users\\halid\\AppData\\Local\\Programs\\Python\\Python312\\Lib\\site-packages\\sdv\\single_table\\base.py:86: UserWarning: We strongly recommend saving the metadata using 'save_to_json' for replicability in future SDV versions.\n",
      "  warnings.warn(\n"
     ]
    },
    {
     "name": "stdout",
     "output_type": "stream",
     "text": [
      "   PatientID  Age  Gender  Ethnicity  EducationLevel        BMI  Smoking  \\\n",
      "0  662020428   65       0          0               2  34.693231        0   \n",
      "1  495621914   60       1          0               1  15.008851        0   \n",
      "2  557249485   78       0          3               1  33.069918        0   \n",
      "3  769046033   65       1          0               3  28.146343        0   \n",
      "4  294719035   80       0          0               1  17.254501        0   \n",
      "\n",
      "   AlcoholConsumption  PhysicalActivity  DietQuality  ...  MemoryComplaints  \\\n",
      "0           19.989293          5.892927     1.144486  ...                 0   \n",
      "1           18.974446          2.459579     2.947595  ...                 1   \n",
      "2            6.011301          7.885333     4.773943  ...                 1   \n",
      "3            1.523405          9.469224     3.698728  ...                 0   \n",
      "4            8.751052          2.120564     0.932746  ...                 1   \n",
      "\n",
      "   BehavioralProblems       ADL  Confusion  Disorientation  \\\n",
      "0                   0  9.999747          0               0   \n",
      "1                   0  7.202116          1               0   \n",
      "2                   0  7.317537          1               0   \n",
      "3                   0  3.525501          0               0   \n",
      "4                   0  5.547465          0               1   \n",
      "\n",
      "   PersonalityChanges  DifficultyCompletingTasks  Forgetfulness  Diagnosis  \\\n",
      "0                   0                          0              1          0   \n",
      "1                   0                          0              0          0   \n",
      "2                   0                          0              0          1   \n",
      "3                   1                          0              0          0   \n",
      "4                   0                          0              0          0   \n",
      "\n",
      "   DoctorInCharge  \n",
      "0       XXXConfid  \n",
      "1       XXXConfid  \n",
      "2       XXXConfid  \n",
      "3       XXXConfid  \n",
      "4       XXXConfid  \n",
      "\n",
      "[5 rows x 35 columns]\n"
     ]
    }
   ],
   "source": [
    "import pandas as pd\n",
    "from sdv.single_table import CTGANSynthesizer\n",
    "from sdv.metadata import SingleTableMetadata\n",
    "\n",
    "# ucitavanje dataset-a\n",
    "file_path = '../../datasets/tabular/original/alzheimers_disease_data.csv'\n",
    "data = pd.read_csv(file_path)\n",
    "\n",
    "# generisanje metadata automatski iz podataka\n",
    "metadata = SingleTableMetadata()\n",
    "metadata.detect_from_dataframe(data)\n",
    "\n",
    "# inicijalizacija CTGAN sintetizatora sa smanjenim brojem epoha\n",
    "synthesizer = CTGANSynthesizer(metadata, epochs=1000)\n",
    "\n",
    "# treniranje modela na podacima\n",
    "synthesizer.fit(data)\n",
    "\n",
    "# generisanje novih podataka\n",
    "num_samples = 2000\n",
    "synthetic_data = synthesizer.sample(num_samples)\n",
    "\n",
    "# prikaz prvih nekoliko redova sintetičkih podataka\n",
    "print(synthetic_data.head())\n",
    "\n",
    "# cuvanje podataka u csv\n",
    "synthetic_data.to_csv('../../datasets/tabular/genereted/alzheimers_disease_genereted.csv', index=False)\n"
   ]
  }
 ],
 "metadata": {
  "kernelspec": {
   "display_name": "Python 3",
   "language": "python",
   "name": "python3"
  },
  "language_info": {
   "codemirror_mode": {
    "name": "ipython",
    "version": 3
   },
   "file_extension": ".py",
   "mimetype": "text/x-python",
   "name": "python",
   "nbconvert_exporter": "python",
   "pygments_lexer": "ipython3",
   "version": "3.12.0"
  }
 },
 "nbformat": 4,
 "nbformat_minor": 2
}
